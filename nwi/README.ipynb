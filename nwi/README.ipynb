{
 "cells": [
  {
   "cell_type": "markdown",
   "id": "a77a5d9b",
   "metadata": {},
   "source": [
    "# National Wetlands Inventory\n",
    "\n",
    "[![image](https://colab.research.google.com/assets/colab-badge.svg)](https://colab.research.google.com/github/opengeos/source-coop-readme/blob/main/nwi/README.ipynb)\n",
    "\n",
    "## Description\n",
    "\n",
    "This dataset is a copy of the [National Wetlands Inventory](https://www.fws.gov/program/national-wetlands-inventory), offering the data in more GIS-friendly and [cloud-native geospatial](https://cloudnativegeo.org) formats. The original dataset is distributed as zipped Geodatabase files, and is available for download from [here](https://www.fws.gov/program/national-wetlands-inventory/download-state-wetlands-data).\n",
    "\n",
    "## Data download\n",
    "\n",
    "The script below was used to download the data from the National Wetlands Inventory in Geodatabase format from [here](https://www.fws.gov/program/national-wetlands-inventory/download-state-wetlands-data). The script uses the [leafmap](https://leafmap.org) Python package.\n",
    "\n",
    "First, create a conda environment with the required packages:\n",
    "\n",
    "```bash\n",
    "conda create -n gdal python=3.11\n",
    "conda activate gdal\n",
    "conda install -c conda-forge mamba\n",
    "mamba install -c conda-forge libgdal-arrow-parquet gdal leafmap\n",
    "```\n",
    "\n",
    "If you are using Google Colab, you can install the packages as follows:"
   ]
  },
  {
   "cell_type": "code",
   "execution_count": null,
   "id": "3776e156",
   "metadata": {},
   "outputs": [],
   "source": [
    "# %pip install leafmap lonboard==0.3.0"
   ]
  },
  {
   "cell_type": "markdown",
   "id": "ce346fe8",
   "metadata": {},
   "source": [
    "Then, run the script below:"
   ]
  },
  {
   "cell_type": "code",
   "execution_count": null,
   "id": "fc0ab897",
   "metadata": {},
   "outputs": [],
   "source": [
    "import leafmap\n",
    "import pandas as pd\n",
    "\n",
    "url = 'https://open.gishub.org/data/us/us_states.csv'\n",
    "df = pd.read_csv(url)\n",
    "ids = df['id'].tolist()\n",
    "ids.sort()\n",
    "urls = [f\"https://documentst.ecosphere.fws.gov/wetlands/data/State-Downloads/{id}_geodatabase_wetlands.zip\" for id in ids]\n",
    "leafmap.download_files(urls, out_dir='.', unzip=True)"
   ]
  },
  {
   "cell_type": "markdown",
   "id": "9876da50",
   "metadata": {},
   "source": [
    "## Data conversion\n",
    "\n",
    "The script below was used to convert the data from the original Geodatabase format to [Parquet](https://parquet.apache.org) format. The script uses the [leafmap](https://leafmap.org) Python package."
   ]
  },
  {
   "cell_type": "code",
   "execution_count": null,
   "id": "df0d2ef7",
   "metadata": {},
   "outputs": [],
   "source": [
    "import leafmap\n",
    "import pandas as pd\n",
    "\n",
    "url = 'https://open.gishub.org/data/us/us_states.csv'\n",
    "df = pd.read_csv(url)\n",
    "ids = df['id'].tolist()\n",
    "\n",
    "for index, state in enumerate(ids):\n",
    "    print(f'Processing {state} ({index+1}/{len(ids)})')\n",
    "    gdb = f\"{state}_geodatabase_wetlands.gdb/\"\n",
    "    layer_name = f'{state}_Wetlands'\n",
    "    leafmap.gdb_to_vector(gdb, \".\", gdal_driver=\"Parquet\", layers=[layer_name])"
   ]
  },
  {
   "cell_type": "markdown",
   "id": "8da07dc5",
   "metadata": {},
   "source": [
    "The total file size of the Geodatabase files is 32.5 GB. The total file size of the Parquet files is 75.8 GB.\n",
    "\n",
    "## Data access\n",
    "\n",
    "The script below can be used to access the data using [DuckDB](https://duckdb.org). The script uses the [duckdb](https://duckdb.org) Python package."
   ]
  },
  {
   "cell_type": "code",
   "execution_count": null,
   "id": "7fce1f4e",
   "metadata": {},
   "outputs": [],
   "source": [
    "import duckdb\n",
    "\n",
    "con = duckdb.connect()\n",
    "con.install_extension(\"spatial\")\n",
    "con.load_extension(\"spatial\")\n",
    "\n",
    "state = \"DC\"    # Change to the US State of your choice\n",
    "url = f\"https://data.source.coop/giswqs/nwi/wetlands/{state}_Wetlands.parquet\"\n",
    "con.sql(f\"SELECT * EXCLUDE geometry, ST_GeomFromWKB(geometry) FROM '{url}'\")"
   ]
  },
  {
   "cell_type": "markdown",
   "id": "ef7fe491",
   "metadata": {},
   "source": [
    "Alternatively, you can use the aws cli to access the data directly from the S3 bucket:\n",
    "\n",
    "```bash\n",
    "aws s3 ls s3://us-west-2.opendata.source.coop/giswqs/nwi/wetlands/\n",
    "```\n",
    "\n",
    "## Data visualization\n",
    "\n",
    "To visualize the data, you can use the [leafmap](https://leafmap.org) Python package with the [lonboard](https://github.com/developmentseed/lonboard) backend. The script below shows how to visualize the data."
   ]
  },
  {
   "cell_type": "code",
   "execution_count": null,
   "id": "f9d90184",
   "metadata": {},
   "outputs": [],
   "source": [
    "import leafmap\n",
    "\n",
    "state = \"DC\"   # Change to the US State of your choice\n",
    "url = f\"https://data.source.coop/giswqs/nwi/wetlands/{state}_Wetlands.parquet\"\n",
    "gdf = leafmap.read_parquet(url, return_type='gdf', src_crs='EPSG:5070', dst_crs='EPSG:4326')\n",
    "leafmap.view_vector(gdf, get_fill_color=[0, 0, 255, 128])"
   ]
  },
  {
   "cell_type": "markdown",
   "id": "7007bcda",
   "metadata": {},
   "source": [
    "![vector](https://i.imgur.com/HRtpiVd.png)\n",
    "\n",
    "Alternatively, you can specify a color map to visualize the data."
   ]
  },
  {
   "cell_type": "code",
   "execution_count": null,
   "id": "00b33685",
   "metadata": {},
   "outputs": [],
   "source": [
    "color_map =  {\n",
    "        \"Freshwater Forested/Shrub Wetland\": (0, 136, 55),\n",
    "        \"Freshwater Emergent Wetland\": (127, 195, 28),\n",
    "        \"Freshwater Pond\": (104, 140, 192),\n",
    "        \"Estuarine and Marine Wetland\": (102, 194, 165),\n",
    "        \"Riverine\": (1, 144, 191),\n",
    "        \"Lake\": (19, 0, 124),\n",
    "        \"Estuarine and Marine Deepwater\": (0, 124, 136),\n",
    "        \"Other\": (178, 134, 86),\n",
    "    }\n",
    "leafmap.view_vector(gdf, color_column='WETLAND_TYPE', color_map=color_map, opacity=0.5)"
   ]
  },
  {
   "cell_type": "markdown",
   "id": "b442b7d3",
   "metadata": {},
   "source": [
    "![vector-color](https://i.imgur.com/Ejh8hK6.png)\n",
    "\n",
    "Display a legend for the data."
   ]
  },
  {
   "cell_type": "code",
   "execution_count": null,
   "id": "8c883a2c",
   "metadata": {},
   "outputs": [],
   "source": [
    "leafmap.Legend(title=\"Wetland Type\", legend_dict=color_map)"
   ]
  },
  {
   "cell_type": "markdown",
   "id": "72c2ffc5",
   "metadata": {},
   "source": [
    "![legend](https://i.imgur.com/fxzHHFN.png)\n",
    "\n",
    "## Data analysis\n",
    "\n",
    "Find out the total number of wetlands in the United States by aggregating the 51 parquet files."
   ]
  },
  {
   "cell_type": "code",
   "execution_count": null,
   "id": "306e1c7a",
   "metadata": {},
   "outputs": [],
   "source": [
    "con.sql(f\"\"\"\n",
    "SELECT COUNT(*) AS Count\n",
    "FROM 's3://us-west-2.opendata.source.coop/giswqs/nwi/wetlands/*.parquet'\n",
    "\"\"\")"
   ]
  },
  {
   "cell_type": "markdown",
   "id": "374a8835",
   "metadata": {},
   "source": [
    "Find out the number of wetlands in each state. Note that the NWI datasets do not contain a field for state names. The `filename` argument can be used to add an extra `filename` column to the result that indicates which row came from which file."
   ]
  },
  {
   "cell_type": "code",
   "execution_count": null,
   "id": "effa2e85",
   "metadata": {},
   "outputs": [],
   "source": [
    "df = con.sql(f\"\"\"\n",
    "SELECT filename, COUNT(*) AS Count\n",
    "FROM read_parquet('s3://us-west-2.opendata.source.coop/giswqs/nwi/wetlands/*.parquet', filename=true)\n",
    "GROUP BY filename\n",
    "ORDER BY COUNT(*) DESC;\n",
    "\"\"\").df()\n",
    "df.head()"
   ]
  },
  {
   "cell_type": "markdown",
   "id": "2ad5fdbc",
   "metadata": {},
   "source": [
    "Inspect the list of filenames."
   ]
  },
  {
   "cell_type": "code",
   "execution_count": null,
   "id": "e58ed985",
   "metadata": {},
   "outputs": [],
   "source": [
    "df['filename'].tolist()"
   ]
  },
  {
   "cell_type": "markdown",
   "id": "d8bd6da2",
   "metadata": {},
   "source": [
    "Create a `State` column based on the `filename` column by extracting the state name from the filename."
   ]
  },
  {
   "cell_type": "code",
   "execution_count": null,
   "id": "76023bd7",
   "metadata": {},
   "outputs": [],
   "source": [
    "count_df = con.sql(f\"\"\"\n",
    "SELECT SUBSTRING(filename, LENGTH(filename) - 18, 2) AS State, COUNT(*) AS Count\n",
    "FROM read_parquet('s3://us-west-2.opendata.source.coop/giswqs/nwi/wetlands/*.parquet', filename=true)\n",
    "GROUP BY State\n",
    "ORDER BY COUNT(*) DESC;\n",
    "\"\"\").df()\n",
    "count_df.head(10)"
   ]
  },
  {
   "cell_type": "markdown",
   "id": "2b98ad86",
   "metadata": {},
   "source": [
    "Create a `wetlands` table from the DataFrame above."
   ]
  },
  {
   "cell_type": "code",
   "execution_count": null,
   "id": "0d820d8a",
   "metadata": {},
   "outputs": [],
   "source": [
    "con.sql(\"CREATE OR REPLACE TABLE wetlands AS FROM count_df\")\n",
    "con.sql(\"FROM wetlands\")"
   ]
  },
  {
   "cell_type": "markdown",
   "id": "9472839e",
   "metadata": {},
   "source": [
    "To visualize the data on the map, we need a GeoDataFrame. Let's create a `states` table from the [us_states.parquet](https://open.gishub.org/data/us/us_states.parquet) file."
   ]
  },
  {
   "cell_type": "code",
   "execution_count": null,
   "id": "20c80e3e",
   "metadata": {},
   "outputs": [],
   "source": [
    "url = 'https://open.gishub.org/data/us/us_states.parquet'\n",
    "con.sql(\n",
    "    f\"\"\"\n",
    "CREATE OR REPLACE TABLE states AS\n",
    "SELECT * EXCLUDE geometry, ST_GeomFromWKB(geometry)\n",
    "AS geometry FROM '{url}'\n",
    "\"\"\"\n",
    ")\n",
    "con.sql(\"FROM states\")"
   ]
  },
  {
   "cell_type": "markdown",
   "id": "fcb888fd",
   "metadata": {},
   "source": [
    "Join the `wetlands` table with the `states` table."
   ]
  },
  {
   "cell_type": "code",
   "execution_count": null,
   "id": "06fe7ede",
   "metadata": {},
   "outputs": [],
   "source": [
    "con.sql(\"\"\"\n",
    "SELECT * FROM states INNER JOIN wetlands ON states.id = wetlands.State\n",
    "\"\"\")"
   ]
  },
  {
   "cell_type": "markdown",
   "id": "9903dfd3",
   "metadata": {},
   "source": [
    "Export the joined table as a Pandas DataFrame."
   ]
  },
  {
   "cell_type": "code",
   "execution_count": null,
   "id": "dd8e79d0",
   "metadata": {},
   "outputs": [],
   "source": [
    "df = con.sql(\"\"\"\n",
    "SELECT name, State, Count, ST_AsText(geometry) as geometry\n",
    "FROM states INNER JOIN wetlands ON states.id = wetlands.State\n",
    "\"\"\").df()\n",
    "df.head()"
   ]
  },
  {
   "cell_type": "markdown",
   "id": "c2662648",
   "metadata": {},
   "source": [
    "Convert the Pandas DataFrame to a GeoDataFrame."
   ]
  },
  {
   "cell_type": "code",
   "execution_count": null,
   "id": "81faf3ae",
   "metadata": {},
   "outputs": [],
   "source": [
    "gdf = leafmap.df_to_gdf(df, src_crs=\"EPSG:4326\")"
   ]
  },
  {
   "cell_type": "markdown",
   "id": "049ba534",
   "metadata": {},
   "source": [
    "Visualize the data on the map."
   ]
  },
  {
   "cell_type": "code",
   "execution_count": null,
   "id": "ac5bde31",
   "metadata": {},
   "outputs": [],
   "source": [
    "m = leafmap.Map()\n",
    "m.add_data(\n",
    "    gdf, column='Count', scheme='Quantiles', cmap='Greens', legend_title='Wetland Count'\n",
    ")\n",
    "m"
   ]
  },
  {
   "cell_type": "markdown",
   "id": "c0290e92",
   "metadata": {},
   "source": [
    "![](https://i.imgur.com/x9nJWZR.png)"
   ]
  },
  {
   "cell_type": "markdown",
   "id": "4c8deb80",
   "metadata": {},
   "source": [
    "Create a pie chart to show the percentage of wetlands in each state."
   ]
  },
  {
   "cell_type": "code",
   "execution_count": null,
   "id": "be650a69",
   "metadata": {},
   "outputs": [],
   "source": [
    "leafmap.pie_chart(count_df, 'State', 'Count', height=800, title='Number of Wetlands by State')"
   ]
  },
  {
   "cell_type": "markdown",
   "id": "4e37a490",
   "metadata": {},
   "source": [
    "![](https://i.imgur.com/EQFZW4x.png)"
   ]
  },
  {
   "cell_type": "markdown",
   "id": "e3287fb2",
   "metadata": {},
   "source": [
    "Create a bar chart to show the number of wetlands in each state."
   ]
  },
  {
   "cell_type": "code",
   "execution_count": null,
   "id": "a54a6033",
   "metadata": {},
   "outputs": [],
   "source": [
    "leafmap.bar_chart(count_df, 'State', 'Count', title='Number of Wetlands by State')"
   ]
  },
  {
   "cell_type": "markdown",
   "id": "30d2c65c",
   "metadata": {},
   "source": [
    "![](https://i.imgur.com/dNjh9lp.png)"
   ]
  },
  {
   "cell_type": "markdown",
   "id": "aacbd6a0",
   "metadata": {},
   "source": [
    "Calculate the total area of wetlands in the United States. It takes about 3 minutes to run this query. Please be patient."
   ]
  },
  {
   "cell_type": "code",
   "execution_count": null,
   "id": "f6f9fbf3",
   "metadata": {},
   "outputs": [],
   "source": [
    "con.sql(f\"\"\"\n",
    "SELECT SUM(Shape_Area) /  1000000 AS Area_SqKm\n",
    "FROM 's3://us-west-2.opendata.source.coop/giswqs/nwi/wetlands/*.parquet'\n",
    "\"\"\")"
   ]
  },
  {
   "cell_type": "markdown",
   "id": "d045f6e2",
   "metadata": {},
   "source": [
    "Calculate the total area of wetlands in each state. It takes about 3 minutes to run this query. Please be patient."
   ]
  },
  {
   "cell_type": "code",
   "execution_count": null,
   "id": "525d2c42",
   "metadata": {},
   "outputs": [],
   "source": [
    "area_df = con.sql(f\"\"\"\n",
    "SELECT SUBSTRING(filename, LENGTH(filename) - 18, 2) AS State, SUM(Shape_Area) /  1000000 AS Area_SqKm\n",
    "FROM read_parquet('s3://us-west-2.opendata.source.coop/giswqs/nwi/wetlands/*.parquet', filename=true)\n",
    "GROUP BY State\n",
    "ORDER BY COUNT(*) DESC;\n",
    "\"\"\").df()\n",
    "area_df.head(10)"
   ]
  },
  {
   "cell_type": "markdown",
   "id": "7e10cbc2",
   "metadata": {},
   "source": [
    "Create a pie chart to show the percentage of wetlands in each state."
   ]
  },
  {
   "cell_type": "code",
   "execution_count": null,
   "id": "7ef06c2a",
   "metadata": {},
   "outputs": [],
   "source": [
    "leafmap.pie_chart(area_df, 'State', 'Area_SqKm', height=900, title='Wetland Area by State')"
   ]
  },
  {
   "cell_type": "markdown",
   "id": "d7d760b4",
   "metadata": {},
   "source": [
    "![](https://i.imgur.com/tIy2fLt.png)"
   ]
  },
  {
   "cell_type": "markdown",
   "id": "a04188fc",
   "metadata": {},
   "source": [
    "Create a bar chart to show the wetland area in each state."
   ]
  },
  {
   "cell_type": "code",
   "execution_count": null,
   "id": "592fe100",
   "metadata": {},
   "outputs": [],
   "source": [
    "leafmap.bar_chart(area_df, 'State', 'Area_SqKm', title='Wetland Area by State')"
   ]
  },
  {
   "cell_type": "markdown",
   "id": "37729a6b",
   "metadata": {},
   "source": [
    "![](https://i.imgur.com/EyJQZNP.png)"
   ]
  }
 ],
 "metadata": {
  "kernelspec": {
   "display_name": "geo",
   "language": "python",
   "name": "python3"
  },
  "language_info": {
   "name": "python",
   "version": "3.11.5"
  }
 },
 "nbformat": 4,
 "nbformat_minor": 5
}
