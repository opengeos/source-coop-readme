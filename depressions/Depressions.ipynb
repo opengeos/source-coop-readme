{
 "cells": [
  {
   "cell_type": "markdown",
   "id": "0",
   "metadata": {},
   "source": [
    "# National Surface Depressions\n",
    "\n",
    "[![image](https://colab.research.google.com/assets/colab-badge.svg)](https://colab.research.google.com/github/opengeos/source-coop-readme/blob/main/depressions/Depressions.ipynb)\n",
    "\n",
    "## Description\n",
    "\n",
    "This dataset represents the extent and location of surface depressions derived from the 10-m resolution dataset from the 3D Elevation Program ([3DEP](https://www.usgs.gov/3d-elevation-program)). The levet-set algorithm available through the [lidar](https://lidar.gishub.org) Python package was used the process the DEM and delineate surface depressions at the HU8 watershed scale, which was then merged to create a depression dataset by state. The dataset is available [here](https://beta.source.coop/repositories/giswqs/depressions) in the form of GeoParquet files.\n",
    "\n",
    "## Reference\n",
    "\n",
    "- Wu, Q., Lane, C. R., Wang, L., Vanderhoof, M. K., Christensen, J. R., & Liu, H. (2019). Efficient Delineation of Nested Depression Hierarchy in Digital Elevation Models for Hydrological Analysis Using Level‐Set Method. JAWRA Journal of the American Water Resources Association , 55(2), 354-368. https://doi.org/10.1111/1752-1688.12689"
   ]
  },
  {
   "cell_type": "markdown",
   "id": "1",
   "metadata": {},
   "source": [
    "## Installation"
   ]
  },
  {
   "cell_type": "code",
   "execution_count": null,
   "id": "2",
   "metadata": {},
   "outputs": [],
   "source": [
    "%pip install duckdb leafmap"
   ]
  },
  {
   "cell_type": "markdown",
   "id": "3",
   "metadata": {},
   "source": [
    "## Import libraries"
   ]
  },
  {
   "cell_type": "code",
   "execution_count": null,
   "id": "4",
   "metadata": {},
   "outputs": [],
   "source": [
    "import duckdb\n",
    "import leafmap\n",
    "import matplotlib.pyplot as plt"
   ]
  },
  {
   "cell_type": "code",
   "execution_count": null,
   "id": "5",
   "metadata": {},
   "outputs": [],
   "source": [
    "con = duckdb.connect()\n",
    "con.install_extension(\"spatial\")\n",
    "con.load_extension(\"spatial\")"
   ]
  },
  {
   "cell_type": "markdown",
   "id": "6",
   "metadata": {},
   "source": [
    "## Analyze individual states\n",
    "\n",
    "For example, we can analyze the surface depressions in the state of Tennessee."
   ]
  },
  {
   "cell_type": "code",
   "execution_count": null,
   "id": "7",
   "metadata": {},
   "outputs": [],
   "source": [
    "state = \"TN\"  # Change to the state of your choice\n",
    "url = f\"https://data.source.coop/giswqs/depressions/state/{state}.parquet\"\n",
    "con.sql(f\"SELECT * EXCLUDE geometry, ST_GeomFromWKB(geometry) as geometry FROM '{url}'\")"
   ]
  },
  {
   "cell_type": "markdown",
   "id": "8",
   "metadata": {},
   "source": [
    "Return the results as a Pandas DataFrame."
   ]
  },
  {
   "cell_type": "code",
   "execution_count": null,
   "id": "9",
   "metadata": {},
   "outputs": [],
   "source": [
    "state = \"TN\"  # Change to the state of your choice\n",
    "url = f\"https://data.source.coop/giswqs/depressions/state/{state}.parquet\"\n",
    "df = con.sql(f\"SELECT * EXCLUDE geometry FROM '{url}'\").df()\n",
    "df.head()"
   ]
  },
  {
   "cell_type": "markdown",
   "id": "10",
   "metadata": {},
   "source": [
    "Calculate summary statistics for the surface depressions in the selected state."
   ]
  },
  {
   "cell_type": "code",
   "execution_count": null,
   "id": "11",
   "metadata": {},
   "outputs": [],
   "source": [
    "df.describe()"
   ]
  },
  {
   "cell_type": "markdown",
   "id": "12",
   "metadata": {},
   "source": [
    "Create a histogram of the surface depression areas in the selected state."
   ]
  },
  {
   "cell_type": "code",
   "execution_count": null,
   "id": "13",
   "metadata": {},
   "outputs": [],
   "source": [
    "plt.hist(df[\"area\"], bins=15, edgecolor=\"black\", range=(1000, 20000))\n",
    "plt.xlabel(\"Area (sq. meters)\")\n",
    "plt.ylabel(\"Frequency\")\n",
    "plt.title(\"Histogram of Depression Area\")\n",
    "plt.show()"
   ]
  },
  {
   "cell_type": "markdown",
   "id": "14",
   "metadata": {},
   "source": [
    "Create a scatter plot of the surface depression volumes in the selected state."
   ]
  },
  {
   "cell_type": "code",
   "execution_count": null,
   "id": "15",
   "metadata": {},
   "outputs": [],
   "source": [
    "plt.hist(df[\"volume\"], bins=15, edgecolor=\"black\", range=(1000, 20000))\n",
    "plt.xlabel(\"Volume (cubic meters)\")\n",
    "plt.ylabel(\"Frequency\")\n",
    "plt.title(\"Histogram of Depression Volume\")\n",
    "plt.show()"
   ]
  },
  {
   "cell_type": "markdown",
   "id": "16",
   "metadata": {},
   "source": [
    "Create a scatter plot of the surface depression mean depth in the selected state."
   ]
  },
  {
   "cell_type": "code",
   "execution_count": null,
   "id": "17",
   "metadata": {},
   "outputs": [],
   "source": [
    "plt.hist(df[\"avg-depth\"], bins=15, edgecolor=\"black\", range=(0, 1))\n",
    "plt.xlabel(\"Depth (meter)\")\n",
    "plt.ylabel(\"Frequency\")\n",
    "plt.title(\"Histogram of Depression Mean Depth\")\n",
    "plt.show()"
   ]
  },
  {
   "cell_type": "markdown",
   "id": "18",
   "metadata": {},
   "source": [
    "## Analyze all states\n",
    "\n",
    "Calculate the total number of surface depressions in the United States, including lower 48 states, Alaska, and Hawaii."
   ]
  },
  {
   "cell_type": "code",
   "execution_count": null,
   "id": "19",
   "metadata": {},
   "outputs": [],
   "source": [
    "url = \"s3://us-west-2.opendata.source.coop/giswqs/depressions/state/*.parquet\"\n",
    "con.sql(\n",
    "    f\"\"\"\n",
    "SELECT COUNT(*) AS Count\n",
    "FROM '{url}'\n",
    "\"\"\"\n",
    ")"
   ]
  },
  {
   "cell_type": "markdown",
   "id": "20",
   "metadata": {},
   "source": [
    "Find out the number of surface depressions in each state. Note that the datasets do not contain a field for state names. The `filename` argument can be used to add an extra filename column to the result that indicates which row came from which file."
   ]
  },
  {
   "cell_type": "code",
   "execution_count": null,
   "id": "21",
   "metadata": {},
   "outputs": [],
   "source": [
    "df = con.sql(\n",
    "    f\"\"\"\n",
    "SELECT filename, COUNT(*) AS Count\n",
    "FROM read_parquet('s3://us-west-2.opendata.source.coop/giswqs/depressions/state/*.parquet', filename=true)\n",
    "GROUP BY filename\n",
    "ORDER BY COUNT(*) DESC;\n",
    "\"\"\"\n",
    ").df()\n",
    "df.head()"
   ]
  },
  {
   "cell_type": "markdown",
   "id": "22",
   "metadata": {},
   "source": [
    "Inspect the list of filenames."
   ]
  },
  {
   "cell_type": "code",
   "execution_count": null,
   "id": "23",
   "metadata": {},
   "outputs": [],
   "source": [
    "df[\"filename\"].tolist()"
   ]
  },
  {
   "cell_type": "markdown",
   "id": "24",
   "metadata": {},
   "source": [
    "Create a `State` column based on the `filename` column by extracting the state name from the filename."
   ]
  },
  {
   "cell_type": "code",
   "execution_count": null,
   "id": "25",
   "metadata": {},
   "outputs": [],
   "source": [
    "count_df = con.sql(\n",
    "    f\"\"\"\n",
    "SELECT SUBSTRING(filename, LENGTH(filename) - 9, 2) AS State, COUNT(*) AS Count\n",
    "FROM read_parquet('s3://us-west-2.opendata.source.coop/giswqs/depressions/state/*.parquet', filename=true)\n",
    "GROUP BY State\n",
    "ORDER BY COUNT(*) DESC;\n",
    "\"\"\"\n",
    ").df()\n",
    "count_df.head(10)"
   ]
  },
  {
   "cell_type": "markdown",
   "id": "26",
   "metadata": {},
   "source": [
    "Create a bar plot of the number of surface depressions in each state."
   ]
  },
  {
   "cell_type": "code",
   "execution_count": null,
   "id": "27",
   "metadata": {},
   "outputs": [],
   "source": [
    "leafmap.bar_chart(count_df, x=\"State\", y=\"Count\", title=\"Depression Count by State\")"
   ]
  },
  {
   "cell_type": "markdown",
   "id": "28",
   "metadata": {},
   "source": [
    "Create a pie chart of the number of surface depressions in each state."
   ]
  },
  {
   "cell_type": "code",
   "execution_count": null,
   "id": "29",
   "metadata": {},
   "outputs": [],
   "source": [
    "leafmap.pie_chart(count_df, names=\"State\", values=\"Count\", height=600)"
   ]
  },
  {
   "cell_type": "markdown",
   "id": "30",
   "metadata": {},
   "source": [
    "Create a depressions table from the DataFrame above."
   ]
  },
  {
   "cell_type": "code",
   "execution_count": null,
   "id": "31",
   "metadata": {},
   "outputs": [],
   "source": [
    "con.sql(\"CREATE OR REPLACE TABLE depressions AS FROM count_df\")\n",
    "con.sql(\"FROM depressions\")"
   ]
  },
  {
   "cell_type": "markdown",
   "id": "32",
   "metadata": {},
   "source": [
    "To visualize the data on the map, we need a GeoDataFrame. Let's create a states table from the [us_states.parquet](https://open.gishub.org/data/us/us_states.parquet) file."
   ]
  },
  {
   "cell_type": "code",
   "execution_count": null,
   "id": "33",
   "metadata": {},
   "outputs": [],
   "source": [
    "url = \"https://open.gishub.org/data/us/us_states.parquet\"\n",
    "con.sql(\n",
    "    f\"\"\"\n",
    "CREATE OR REPLACE TABLE states AS\n",
    "SELECT * EXCLUDE geometry, ST_GeomFromWKB(geometry) \n",
    "AS geometry FROM '{url}'\n",
    "\"\"\"\n",
    ")\n",
    "con.sql(\"FROM states\")"
   ]
  },
  {
   "cell_type": "markdown",
   "id": "34",
   "metadata": {},
   "source": [
    "Join the `depressions` table with the `states` table."
   ]
  },
  {
   "cell_type": "code",
   "execution_count": null,
   "id": "35",
   "metadata": {},
   "outputs": [],
   "source": [
    "con.sql(\n",
    "    \"\"\"\n",
    "SELECT * FROM states INNER JOIN depressions ON states.id = depressions.State\n",
    "\"\"\"\n",
    ")"
   ]
  },
  {
   "cell_type": "markdown",
   "id": "36",
   "metadata": {},
   "source": [
    "Export the joined table as a Pandas DataFrame."
   ]
  },
  {
   "cell_type": "code",
   "execution_count": null,
   "id": "37",
   "metadata": {},
   "outputs": [],
   "source": [
    "df = con.sql(\n",
    "    \"\"\"\n",
    "SELECT name, State, Count, ST_AsText(geometry) as geometry\n",
    "FROM states INNER JOIN depressions ON states.id = depressions.State\n",
    "\"\"\"\n",
    ").df()\n",
    "df.head()"
   ]
  },
  {
   "cell_type": "markdown",
   "id": "38",
   "metadata": {},
   "source": [
    "Convert the Pandas DataFrame to a GeoDataFrame."
   ]
  },
  {
   "cell_type": "code",
   "execution_count": null,
   "id": "39",
   "metadata": {},
   "outputs": [],
   "source": [
    "gdf = leafmap.df_to_gdf(df, src_crs=\"EPSG:4326\")"
   ]
  },
  {
   "cell_type": "markdown",
   "id": "40",
   "metadata": {},
   "source": [
    "Visualize the data on the map."
   ]
  },
  {
   "cell_type": "code",
   "execution_count": null,
   "id": "41",
   "metadata": {},
   "outputs": [],
   "source": [
    "m = leafmap.Map(center=[40, -100], zoom=4)\n",
    "m.add_data(\n",
    "    gdf,\n",
    "    column=\"Count\",\n",
    "    scheme=\"Quantiles\",\n",
    "    cmap=\"Greens\",\n",
    "    legend_title=\"Depression Count\",\n",
    ")\n",
    "m"
   ]
  },
  {
   "cell_type": "markdown",
   "id": "42",
   "metadata": {},
   "source": [
    "Calculate summary statistics for the surface depression areas in the United States."
   ]
  },
  {
   "cell_type": "code",
   "execution_count": null,
   "id": "43",
   "metadata": {},
   "outputs": [],
   "source": [
    "con.sql(\n",
    "    f\"\"\"\n",
    "SELECT SUM(area) /  1000000 AS Sum_Area_SqKm, MIN(area) AS Min_Area, MAX(area) AS Max_Area, AVG(area) AS Avg_Area, STDDEV(area) AS Std_Area, MEDIAN(area) AS Median_Area\n",
    "FROM 's3://us-west-2.opendata.source.coop/giswqs/depressions/state/*.parquet'\n",
    "\"\"\"\n",
    ")"
   ]
  },
  {
   "cell_type": "markdown",
   "id": "44",
   "metadata": {},
   "source": [
    "Calculate summary statistics for the surface depression volumes in the United States."
   ]
  },
  {
   "cell_type": "code",
   "execution_count": null,
   "id": "45",
   "metadata": {},
   "outputs": [],
   "source": [
    "con.sql(\n",
    "    f\"\"\"\n",
    "SELECT SUM(volume) /  1000000000 AS Sum_Volume_CuKm, MAX(volume) AS Max_Volume, AVG(volume) AS Avg_Volume, STDDEV(volume) AS Std_Volume, MEDIAN(volume) AS Median_Volume\n",
    "FROM 's3://us-west-2.opendata.source.coop/giswqs/depressions/state/*.parquet'\n",
    "\"\"\"\n",
    ")"
   ]
  },
  {
   "cell_type": "markdown",
   "id": "46",
   "metadata": {},
   "source": [
    "Calculate summary statistics for the surface depression mean depths in the United States."
   ]
  },
  {
   "cell_type": "code",
   "execution_count": null,
   "id": "47",
   "metadata": {},
   "outputs": [],
   "source": [
    "con.sql(\n",
    "    f\"\"\"\n",
    "SELECT AVG(\"avg-depth\") AS Avg_Depth, STDDEV(\"avg-depth\") AS Std_Depth, MEDIAN(\"avg-depth\") AS Median_Depth\n",
    "FROM 's3://us-west-2.opendata.source.coop/giswqs/depressions/state/*.parquet'\n",
    "\"\"\"\n",
    ")"
   ]
  },
  {
   "cell_type": "markdown",
   "id": "48",
   "metadata": {},
   "source": [
    "Calculate the total area of surface depressions by state."
   ]
  },
  {
   "cell_type": "code",
   "execution_count": null,
   "id": "49",
   "metadata": {},
   "outputs": [],
   "source": [
    "area_df = con.sql(\n",
    "    f\"\"\"\n",
    "SELECT SUBSTRING(filename, LENGTH(filename) - 9, 2) AS State, SUM(area) /  1000000 AS Area_SqKm, MEDIAN(area) AS Median_Area\n",
    "FROM read_parquet('s3://us-west-2.opendata.source.coop/giswqs/depressions/state/*.parquet', filename=true)\n",
    "GROUP BY State\n",
    "ORDER BY COUNT(*) DESC;\n",
    "\"\"\"\n",
    ").df()\n",
    "area_df.head(10)"
   ]
  },
  {
   "cell_type": "markdown",
   "id": "50",
   "metadata": {},
   "source": [
    "Create a bar plot of the total area of surface depressions by state."
   ]
  },
  {
   "cell_type": "code",
   "execution_count": null,
   "id": "51",
   "metadata": {},
   "outputs": [],
   "source": [
    "leafmap.bar_chart(\n",
    "    area_df, x=\"State\", y=\"Area_SqKm\", title=\"Total Depression Area by State (Sq. Km)\"\n",
    ")"
   ]
  },
  {
   "cell_type": "code",
   "execution_count": null,
   "id": "52",
   "metadata": {},
   "outputs": [],
   "source": [
    "leafmap.bar_chart(\n",
    "    area_df, x=\"State\", y=\"Median_Area\", title=\"Median Depression Area by State (m2)\"\n",
    ")"
   ]
  },
  {
   "cell_type": "markdown",
   "id": "53",
   "metadata": {},
   "source": [
    "Create a pie chart of the total area of surface depressions by state."
   ]
  },
  {
   "cell_type": "code",
   "execution_count": null,
   "id": "54",
   "metadata": {},
   "outputs": [],
   "source": [
    "leafmap.pie_chart(area_df, names=\"State\", values=\"Area_SqKm\", height=750)"
   ]
  },
  {
   "cell_type": "markdown",
   "id": "55",
   "metadata": {},
   "source": [
    "Calculate the total volume of surface depressions by state."
   ]
  },
  {
   "cell_type": "code",
   "execution_count": null,
   "id": "56",
   "metadata": {},
   "outputs": [],
   "source": [
    "volume_df = con.sql(\n",
    "    f\"\"\"\n",
    "SELECT SUBSTRING(filename, LENGTH(filename) - 9, 2) AS State, SUM(volume) /  1000000000 AS Volume_CuKm, MEDIAN(volume) AS Median_Volume\n",
    "FROM read_parquet('s3://us-west-2.opendata.source.coop/giswqs/depressions/state/*.parquet', filename=true)\n",
    "GROUP BY State\n",
    "ORDER BY COUNT(*) DESC;\n",
    "\"\"\"\n",
    ").df()\n",
    "volume_df.head(10)"
   ]
  },
  {
   "cell_type": "markdown",
   "id": "57",
   "metadata": {},
   "source": [
    "Create a bar plot of the total volume of surface depressions by state."
   ]
  },
  {
   "cell_type": "code",
   "execution_count": null,
   "id": "58",
   "metadata": {},
   "outputs": [],
   "source": [
    "leafmap.bar_chart(\n",
    "    volume_df,\n",
    "    x=\"State\",\n",
    "    y=\"Volume_CuKm\",\n",
    "    title=\"Total Depression Volume by State (Cu. Km)\",\n",
    ")"
   ]
  },
  {
   "cell_type": "code",
   "execution_count": null,
   "id": "59",
   "metadata": {},
   "outputs": [],
   "source": [
    "leafmap.bar_chart(\n",
    "    volume_df, x=\"State\", y=\"Median_Volume\", title=\"Median Depression Volume by State\"\n",
    ")"
   ]
  },
  {
   "cell_type": "markdown",
   "id": "60",
   "metadata": {},
   "source": [
    "Create a pie chart of the total volume of surface depressions by state."
   ]
  },
  {
   "cell_type": "code",
   "execution_count": null,
   "id": "61",
   "metadata": {},
   "outputs": [],
   "source": [
    "leafmap.pie_chart(volume_df, names=\"State\", values=\"Volume_CuKm\", height=900)"
   ]
  }
 ],
 "metadata": {
  "kernelspec": {
   "display_name": "geo",
   "language": "python",
   "name": "python3"
  },
  "language_info": {
   "codemirror_mode": {
    "name": "ipython",
    "version": 3
   },
   "file_extension": ".py",
   "mimetype": "text/x-python",
   "name": "python",
   "nbconvert_exporter": "python",
   "pygments_lexer": "ipython3",
   "version": "3.11.9"
  }
 },
 "nbformat": 4,
 "nbformat_minor": 5
}
