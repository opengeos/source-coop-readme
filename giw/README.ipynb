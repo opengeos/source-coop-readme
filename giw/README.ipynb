{
 "cells": [
  {
   "cell_type": "markdown",
   "id": "6251f0fd",
   "metadata": {},
   "source": [
    "# Non-Floodplain Wetlands\n",
    "\n",
    "[![image](https://colab.research.google.com/assets/colab-badge.svg)](https://colab.research.google.com/github/opengeos/source-coop-readme/blob/main/giw/README.ipynb)\n",
    "\n",
    "## Description\n",
    "\n",
    "This dataset represents the extent and approximate location of [Geographically Isolated Wetlands](https://catalog.data.gov/dataset/geographically-isolated-wetlands-non-floodplain-wetlands-of-the-conterminous-united-states1) (GIWs), also known as non-floodplain wetlands (NFWs), in the conterminous United States. National Wetlands Inventory (NWI) lacustrine systems and palustrine wetlands were determined to be “isolated” based on their geographic location (i.e., unconnected, based on a distance measure, to specific classes of NHD aquatic systems). GIWs were here considered geographically isolated when they were outside of 10 meters from select NHD lines and polygons or were not adjacent to NWI Riverine or Estuarine wetlands and (where applicable) outside of 10 meters from a coastline (e.g., oceans or Great Lakes).\n",
    "\n",
    "## Reference\n",
    "\n",
    "- Lane, C. R., & D'Amico, E. (2016). Identification of putative geographically isolated wetlands of the conterminous United States. JAWRA Journal of the American Water Resources Association, 52(3), 705-722. https://doi.org/10.1111/1752-1688.12421\n",
    "\n",
    "## Environment setup\n",
    "\n",
    "First, create a conda environment with the required packages:\n",
    "\n",
    "```bash\n",
    "conda create -n gdal python=3.11\n",
    "conda activate gdal\n",
    "conda install -c conda-forge mamba\n",
    "mamba install -c conda-forge libgdal-arrow-parquet gdal leafmap\n",
    "pip install lonboard\n",
    "```\n",
    "\n",
    "If you are using Google Colab, you can uncomment the following to install the packages and restart the runtime after installation."
   ]
  },
  {
   "cell_type": "code",
   "execution_count": null,
   "id": "09ec01cc",
   "metadata": {},
   "outputs": [],
   "source": [
    "# %pip install leafmap lonboard"
   ]
  },
  {
   "cell_type": "markdown",
   "id": "db419c8f",
   "metadata": {},
   "source": [
    "## Data download\n",
    "\n",
    "Click on this [link](https://gaftp.epa.gov/EPADataCommons/ORD/CONUS_NFWs/Geographically_Isolated_Wetlands_of_ConterminousUnitedStates.gdb.zip) to download the data to your computer and unzip it.\n",
    "\n",
    "## Data conversion\n",
    "\n",
    "The script below was used to convert the data from the original Geodatabase format to [Parquet](https://parquet.apache.org) format. The script uses the [leafmap](https://leafmap.org) Python package."
   ]
  },
  {
   "cell_type": "code",
   "execution_count": null,
   "id": "c6940ee6",
   "metadata": {},
   "outputs": [],
   "source": [
    "import leafmap"
   ]
  },
  {
   "cell_type": "code",
   "execution_count": null,
   "id": "8b8a0921",
   "metadata": {},
   "outputs": [],
   "source": [
    "gdb = 'Geographically_Isolated_Wetlands_of_ConterminousUnitedStates.gdb'\n",
    "# leafmap.gdb_to_vector(gdb, \".\", gdal_driver=\"Parquet\")"
   ]
  },
  {
   "cell_type": "markdown",
   "id": "48c3ea5a",
   "metadata": {},
   "source": [
    "The total file size of the Geodatabase files is 4.4 GB. The total file size of the Parquet files is 46.4 GB.\n",
    "\n",
    "## Data access\n",
    "\n",
    "The script below can be used to access the data using [DuckDB](https://duckdb.org). The script uses the [duckdb](https://duckdb.org) Python package."
   ]
  },
  {
   "cell_type": "code",
   "execution_count": null,
   "id": "7f001ae9",
   "metadata": {},
   "outputs": [],
   "source": [
    "import duckdb\n",
    "\n",
    "con = duckdb.connect()\n",
    "con.install_extension(\"spatial\")\n",
    "con.load_extension(\"spatial\")\n",
    "\n",
    "state = \"IA\"    # Change to the US State of your choice\n",
    "url = f\"https://data.source.coop/giswqs/giw/wetlands/{state}_IW.parquet\"\n",
    "# con.sql(f\"SELECT * EXCLUDE geometry, ST_GeomFromWKB(geometry) as geometry FROM '{url}'\")"
   ]
  },
  {
   "cell_type": "markdown",
   "id": "e2c9a9aa",
   "metadata": {},
   "source": [
    "Find out the total number non-floodplain wetlands in the selected state:"
   ]
  },
  {
   "cell_type": "code",
   "execution_count": null,
   "id": "55b813f7",
   "metadata": {},
   "outputs": [],
   "source": [
    "con.sql(f\"SELECT COUNT(*) FROM '{url}'\")"
   ]
  },
  {
   "cell_type": "markdown",
   "id": "170e110f",
   "metadata": {},
   "source": [
    "Alternatively, you can use the aws cli to access the data directly from the S3 bucket:\n",
    "\n",
    "```bash\n",
    "aws s3 ls s3://us-west-2.opendata.source.coop/giswqs/giw/wetlands/\n",
    "```\n",
    "\n",
    "## Data visualization\n",
    "\n",
    "To visualize the data, you can use the [leafmap](https://leafmap.org) Python package with the [lonboard](https://github.com/developmentseed/lonboard) backend. The script below shows how to visualize the data."
   ]
  },
  {
   "cell_type": "code",
   "execution_count": null,
   "id": "018ba0c9",
   "metadata": {},
   "outputs": [],
   "source": [
    "import leafmap\n",
    "\n",
    "state = \"DC\"   # Change to the US State of your choice\n",
    "url = f\"https://data.source.coop/giswqs/giw/wetlands/{state}_IW.parquet\"\n",
    "gdf = leafmap.read_parquet(url, return_type='gdf', src_crs='EPSG:5070', dst_crs='EPSG:4326')\n",
    "# leafmap.view_vector(gdf, get_fill_color=[0, 0, 255, 128])"
   ]
  },
  {
   "cell_type": "markdown",
   "id": "75fc88bd",
   "metadata": {},
   "source": [
    "## Data analysis\n",
    "\n",
    "Find out the total number non-floodplain wetlands in the conterminous United States:"
   ]
  },
  {
   "cell_type": "code",
   "execution_count": null,
   "id": "8a8c7020",
   "metadata": {},
   "outputs": [],
   "source": [
    "con.sql(f\"\"\"\n",
    "SELECT COUNT(*) AS Count FROM 's3://us-west-2.opendata.source.coop/giswqs/giw/wetlands/*.parquet'\n",
    "\"\"\")"
   ]
  },
  {
   "cell_type": "markdown",
   "id": "0a7ebb23",
   "metadata": {},
   "source": [
    "Find out the number of non-floodplain wetlands in each state and order them by the number of wetlands:"
   ]
  },
  {
   "cell_type": "code",
   "execution_count": null,
   "id": "bdd6df4c",
   "metadata": {},
   "outputs": [],
   "source": [
    "count_df = con.sql(f\"\"\"\n",
    "SELECT inState AS State, COUNT(*) AS Count FROM 's3://us-west-2.opendata.source.coop/giswqs/giw/wetlands/*.parquet'\n",
    "GROUP BY inState\n",
    "ORDER BY COUNT(*) DESC;\n",
    "\"\"\").df()\n",
    "count_df.head()"
   ]
  },
  {
   "cell_type": "markdown",
   "id": "71d32619",
   "metadata": {},
   "source": [
    "Create a bar chart showing the number of non-floodplain wetlands in each state:"
   ]
  },
  {
   "cell_type": "code",
   "execution_count": null,
   "id": "abbf44f0",
   "metadata": {},
   "outputs": [],
   "source": [
    "leafmap.pie_chart(count_df, 'State', 'Count', height=700, title='Number of Non-Floodplain Wetlands by State')"
   ]
  },
  {
   "cell_type": "markdown",
   "id": "76b5ce7c",
   "metadata": {},
   "source": [
    "![](https://i.imgur.com/GgtlcWB.png)\n",
    "\n",
    "Create a bar chart showing the number of non-floodplain wetlands in each state:"
   ]
  },
  {
   "cell_type": "code",
   "execution_count": null,
   "id": "2eb83bf7",
   "metadata": {},
   "outputs": [],
   "source": [
    "leafmap.bar_chart(count_df, 'State', 'Count', title='Number of Non-Floodplain Wetlands by State')"
   ]
  },
  {
   "cell_type": "markdown",
   "id": "a4126999",
   "metadata": {},
   "source": [
    "![](https://i.imgur.com/v4zz8zV.png)\n",
    "\n",
    "Calculate the total area of non-floodplain wetlands in each state and order them by the area of wetlands:"
   ]
  },
  {
   "cell_type": "code",
   "execution_count": null,
   "id": "8f2f85ed",
   "metadata": {},
   "outputs": [],
   "source": [
    "sum_df = con.sql(f\"\"\"\n",
    "SELECT inState AS State, Sum(hectares) AS Hectares FROM 's3://us-west-2.opendata.source.coop/giswqs/giw/wetlands/*.parquet'\n",
    "GROUP BY inState\n",
    "ORDER BY Sum(hectares) DESC;\n",
    "\"\"\").df()\n",
    "sum_df.head()"
   ]
  },
  {
   "cell_type": "markdown",
   "id": "8816294b",
   "metadata": {},
   "source": [
    "Create a pie chart showing the total area of non-floodplain wetlands in each state:"
   ]
  },
  {
   "cell_type": "code",
   "execution_count": null,
   "id": "aeb137ee",
   "metadata": {},
   "outputs": [],
   "source": [
    "leafmap.pie_chart(sum_df, 'State', 'Hectares', height=700, title='Area of Non-Floodplain Wetlands by State')"
   ]
  },
  {
   "cell_type": "markdown",
   "id": "47284ef3",
   "metadata": {},
   "source": [
    "![](https://i.imgur.com/mAsLCDE.png)\n",
    "\n",
    "Create a pie chart showing the total area of non-floodplain wetlands in each state:"
   ]
  },
  {
   "cell_type": "code",
   "execution_count": null,
   "id": "2078e9a4",
   "metadata": {},
   "outputs": [],
   "source": [
    "leafmap.bar_chart(sum_df, 'State', 'Hectares', title='Area of Non-Floodplain Wetlands by State')"
   ]
  },
  {
   "cell_type": "markdown",
   "id": "6cd654d3",
   "metadata": {},
   "source": [
    "![](https://i.imgur.com/7RtioFU.png)\n",
    "\n",
    "Find out the mean area of non-floodplain wetlands in each state and order them by the mean area of wetlands:"
   ]
  },
  {
   "cell_type": "code",
   "execution_count": null,
   "id": "6ef31ff7",
   "metadata": {},
   "outputs": [],
   "source": [
    "median_df = con.sql(f\"\"\"\n",
    "SELECT inState AS State, median(hectares)*10000 AS Meters FROM 's3://us-west-2.opendata.source.coop/giswqs/giw/wetlands/*.parquet'\n",
    "GROUP BY inState\n",
    "ORDER BY median(hectares) DESC;\n",
    "\"\"\").df()\n",
    "median_df.head(10)"
   ]
  },
  {
   "cell_type": "markdown",
   "id": "be0d1d98",
   "metadata": {},
   "source": [
    "Create a bar chart showing the median area of non-floodplain wetlands in each state:"
   ]
  },
  {
   "cell_type": "code",
   "execution_count": null,
   "id": "9c21c15a",
   "metadata": {},
   "outputs": [],
   "source": [
    "leafmap.bar_chart(median_df, 'State', 'Meters', title='Median Area of Non-Floodplain Wetlands by State')"
   ]
  },
  {
   "cell_type": "markdown",
   "id": "5ef0c2ed",
   "metadata": {},
   "source": [
    "![](https://i.imgur.com/2iAYcm3.png)"
   ]
  }
 ],
 "metadata": {},
 "nbformat": 4,
 "nbformat_minor": 5
}
