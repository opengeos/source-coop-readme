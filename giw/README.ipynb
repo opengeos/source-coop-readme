{
 "cells": [
  {
   "cell_type": "markdown",
   "id": "0",
   "metadata": {},
   "source": [
    "# Non-Floodplain Wetlands\n",
    "\n",
    "[![image](https://colab.research.google.com/assets/colab-badge.svg)](https://colab.research.google.com/github/opengeos/source-coop-readme/blob/main/giw/README.ipynb)\n",
    "\n",
    "## Introduction\n",
    "\n",
    "The datasets represent the extent and approximate location of [Geographically Isolated Wetlands](https://catalog.data.gov/dataset/geographically-isolated-wetlands-non-floodplain-wetlands-of-the-conterminous-united-states1) (GIWs), also known as non-floodplain wetlands (NFWs), in the conterminous United States. National Wetlands Inventory (NWI) lacustrine systems and palustrine wetlands were determined to be “isolated” based on their geographic location (i.e., unconnected, based on a distance measure, to specific classes of NHD aquatic systems). GIWs were here considered geographically isolated when they were outside of 10 meters from select NHD lines and polygons or were not adjacent to NWI Riverine or Estuarine wetlands and (where applicable) outside of 10 meters from a coastline (e.g., oceans or Great Lakes).\n",
    "\n",
    "The datasets have two versions:\n",
    "- [Version 1](https://beta.source.coop/giswqs/giw/wetlands) (46.37 GB): The original Lane & D'Amico (2016) dataset with the original attributes. We call this dataset **NFW**.\n",
    "- [Version 2](https://beta.source.coop/giswqs/giw/wetlands_v2) (90.18 GB): The original Lane & D'Amico (2016) dataset with additional attributes from the 10-m resolution depression dataset. We call this dataset **Wetland Depressions**.\n",
    "\n",
    "## Reference\n",
    "\n",
    "- Lane, C. R., & D'Amico, E. (2016). Identification of putative geographically isolated wetlands of the conterminous United States. _JAWRA Journal of the American Water Resources Association_, 52(3), 705-722. https://doi.org/10.1111/1752-1688.12421\n",
    "\n",
    "## Environment setup\n",
    "\n",
    "First, create a conda environment with the required packages:\n",
    "\n",
    "```bash\n",
    "conda create -n gdal python=3.11\n",
    "conda activate gdal\n",
    "conda install -c conda-forge mamba\n",
    "mamba install -c conda-forge libgdal-arrow-parquet gdal leafmap lonboard\n",
    "```\n",
    "\n",
    "If you are using Google Colab, you can uncomment the following to install the packages and restart the runtime after installation."
   ]
  },
  {
   "cell_type": "code",
   "execution_count": null,
   "id": "1",
   "metadata": {},
   "outputs": [],
   "source": [
    "# %pip install leafmap lonboard"
   ]
  },
  {
   "cell_type": "markdown",
   "id": "2",
   "metadata": {},
   "source": [
    "## Data download\n",
    "\n",
    "Click on this [link](https://gaftp.epa.gov/EPADataCommons/ORD/CONUS_NFWs/Geographically_Isolated_Wetlands_of_ConterminousUnitedStates.gdb.zip) to download the data to your computer and unzip it.\n",
    "\n",
    "## Data conversion\n",
    "\n",
    "The script below was used to convert the data from the original Geodatabase format to [Parquet](https://parquet.apache.org) format. The script uses the [leafmap](https://leafmap.org) Python package."
   ]
  },
  {
   "cell_type": "code",
   "execution_count": null,
   "id": "3",
   "metadata": {},
   "outputs": [],
   "source": [
    "import leafmap"
   ]
  },
  {
   "cell_type": "code",
   "execution_count": null,
   "id": "4",
   "metadata": {},
   "outputs": [],
   "source": [
    "gdb = \"Geographically_Isolated_Wetlands_of_ConterminousUnitedStates.gdb\"\n",
    "# leafmap.gdb_to_vector(gdb, \".\", gdal_driver=\"Parquet\")"
   ]
  },
  {
   "cell_type": "markdown",
   "id": "5",
   "metadata": {},
   "source": [
    "The total file size of the Geodatabase files is 4.4 GB. The total file size of the Parquet files is 46.37 GB.\n",
    "\n",
    "## Data access\n",
    "\n",
    "The script below can be used to access the data using [DuckDB](https://duckdb.org). The script uses the [duckdb](https://duckdb.org) Python package."
   ]
  },
  {
   "cell_type": "code",
   "execution_count": null,
   "id": "6",
   "metadata": {},
   "outputs": [],
   "source": [
    "import duckdb\n",
    "\n",
    "con = duckdb.connect()\n",
    "con.install_extension(\"spatial\")\n",
    "con.load_extension(\"spatial\")\n",
    "\n",
    "state = \"IA\"  # Change to the US State of your choice\n",
    "url = f\"https://data.source.coop/giswqs/giw/wetlands/{state}_IW.parquet\"\n",
    "# con.sql(f\"SELECT * EXCLUDE geometry, ST_GeomFromWKB(geometry) as geometry FROM '{url}'\")"
   ]
  },
  {
   "cell_type": "markdown",
   "id": "7",
   "metadata": {},
   "source": [
    "Find out the total number non-floodplain wetlands in the selected state:"
   ]
  },
  {
   "cell_type": "code",
   "execution_count": null,
   "id": "8",
   "metadata": {},
   "outputs": [],
   "source": [
    "con.sql(f\"SELECT COUNT(*) FROM '{url}'\")"
   ]
  },
  {
   "cell_type": "markdown",
   "id": "9",
   "metadata": {},
   "source": [
    "Alternatively, you can use the aws cli to access the data directly from the S3 bucket:\n",
    "\n",
    "```bash\n",
    "aws s3 ls s3://us-west-2.opendata.source.coop/giswqs/giw/wetlands/\n",
    "```\n",
    "\n",
    "## Data visualization\n",
    "\n",
    "To visualize the data, you can use the [leafmap](https://leafmap.org) Python package with the [lonboard](https://github.com/developmentseed/lonboard) backend. The script below shows how to visualize the data."
   ]
  },
  {
   "cell_type": "code",
   "execution_count": null,
   "id": "10",
   "metadata": {},
   "outputs": [],
   "source": [
    "import leafmap\n",
    "\n",
    "state = \"DC\"  # Change to the US State of your choice\n",
    "url = f\"https://data.source.coop/giswqs/giw/wetlands/{state}_IW.parquet\"\n",
    "gdf = leafmap.read_parquet(\n",
    "    url, return_type=\"gdf\", src_crs=\"EPSG:5070\", dst_crs=\"EPSG:4326\"\n",
    ")\n",
    "leafmap.view_vector(gdf, get_fill_color=[0, 0, 255, 128])"
   ]
  },
  {
   "cell_type": "markdown",
   "id": "11",
   "metadata": {},
   "source": [
    "## Data analysis\n",
    "\n",
    "Find out the total number of NFWs in CONUS:"
   ]
  },
  {
   "cell_type": "code",
   "execution_count": null,
   "id": "12",
   "metadata": {},
   "outputs": [],
   "source": [
    "con.sql(\n",
    "    f\"\"\"\n",
    "SELECT COUNT(*) AS Count\n",
    "FROM 's3://us-west-2.opendata.source.coop/giswqs/giw/wetlands/*.parquet'\n",
    "\"\"\"\n",
    ")"
   ]
  },
  {
   "cell_type": "markdown",
   "id": "13",
   "metadata": {},
   "source": [
    "The total number of NFWs in CONUS is 8,380,620."
   ]
  },
  {
   "cell_type": "markdown",
   "id": "14",
   "metadata": {},
   "source": [
    "Find out the number of NFWs in each state and order them by the number of NFWs:"
   ]
  },
  {
   "cell_type": "code",
   "execution_count": null,
   "id": "15",
   "metadata": {},
   "outputs": [],
   "source": [
    "giw_count_df = con.sql(\n",
    "    f\"\"\"\n",
    "SELECT inState AS State, COUNT(*) AS Count\n",
    "FROM 's3://us-west-2.opendata.source.coop/giswqs/giw/wetlands/*.parquet'\n",
    "GROUP BY inState\n",
    "ORDER BY COUNT(*) DESC;\n",
    "\"\"\"\n",
    ").df()\n",
    "giw_count_df.head()"
   ]
  },
  {
   "cell_type": "markdown",
   "id": "16",
   "metadata": {},
   "source": [
    "Create a pie chart showing the number of NFWs in each state:"
   ]
  },
  {
   "cell_type": "code",
   "execution_count": null,
   "id": "17",
   "metadata": {},
   "outputs": [],
   "source": [
    "leafmap.pie_chart(\n",
    "    giw_count_df,\n",
    "    \"State\",\n",
    "    \"Count\",\n",
    "    height=700,\n",
    "    title=\"Number of Non-Floodplain Wetlands (NFWs) by State\",\n",
    ")"
   ]
  },
  {
   "cell_type": "markdown",
   "id": "18",
   "metadata": {},
   "source": [
    "![](https://i.imgur.com/SNpVzcC.png)\n",
    "\n",
    "Create a bar chart showing the number of NFWs in each state:"
   ]
  },
  {
   "cell_type": "code",
   "execution_count": null,
   "id": "19",
   "metadata": {},
   "outputs": [],
   "source": [
    "leafmap.bar_chart(\n",
    "    giw_count_df,\n",
    "    \"State\",\n",
    "    \"Count\",\n",
    "    title=\"Number of Non-Floodplain Wetlands (NFWs) by State\",\n",
    ")"
   ]
  },
  {
   "cell_type": "markdown",
   "id": "20",
   "metadata": {},
   "source": [
    "![](https://i.imgur.com/19gxoBE.png)\n",
    "\n",
    "Calculate the total area of NFWs in each state and order them by the area of wetlands:"
   ]
  },
  {
   "cell_type": "code",
   "execution_count": null,
   "id": "21",
   "metadata": {},
   "outputs": [],
   "source": [
    "sum_df = con.sql(\n",
    "    f\"\"\"\n",
    "SELECT inState AS State, Sum(hectares) AS Hectares\n",
    "FROM 's3://us-west-2.opendata.source.coop/giswqs/giw/wetlands/*.parquet'\n",
    "GROUP BY inState\n",
    "ORDER BY Sum(hectares) DESC;\n",
    "\"\"\"\n",
    ").df()\n",
    "sum_df.head()"
   ]
  },
  {
   "cell_type": "markdown",
   "id": "22",
   "metadata": {},
   "source": [
    "Create a pie chart showing the total area of NFWs in each state:"
   ]
  },
  {
   "cell_type": "code",
   "execution_count": null,
   "id": "23",
   "metadata": {},
   "outputs": [],
   "source": [
    "leafmap.pie_chart(\n",
    "    sum_df,\n",
    "    \"State\",\n",
    "    \"Hectares\",\n",
    "    height=700,\n",
    "    title=\"Percentage Area of Non-Floodplain Wetlands (NFWs) by State\",\n",
    ")"
   ]
  },
  {
   "cell_type": "markdown",
   "id": "24",
   "metadata": {},
   "source": [
    "![](https://i.imgur.com/dayPfZY.png)\n",
    "\n",
    "Create a pie chart showing the total area of NFWs in each state:"
   ]
  },
  {
   "cell_type": "code",
   "execution_count": null,
   "id": "25",
   "metadata": {},
   "outputs": [],
   "source": [
    "leafmap.bar_chart(\n",
    "    sum_df,\n",
    "    \"State\",\n",
    "    \"Hectares\",\n",
    "    title=\"Total Area of Non-Floodplain Wetlands (NFWs) by State\",\n",
    ")"
   ]
  },
  {
   "cell_type": "code",
   "execution_count": null,
   "id": "26",
   "metadata": {},
   "outputs": [],
   "source": [
    "median_df = con.sql(\n",
    "    f\"\"\"\n",
    "SELECT inState AS State, median(hectares)*10000 AS Meters\n",
    "FROM 's3://us-west-2.opendata.source.coop/giswqs/giw/wetlands/*.parquet'\n",
    "GROUP BY inState\n",
    "ORDER BY median(hectares) DESC;\n",
    "\"\"\"\n",
    ").df()\n",
    "median_df.head(10)"
   ]
  },
  {
   "cell_type": "markdown",
   "id": "27",
   "metadata": {},
   "source": [
    "Create a bar chart showing the median area of NFWs in each state:"
   ]
  },
  {
   "cell_type": "code",
   "execution_count": null,
   "id": "28",
   "metadata": {},
   "outputs": [],
   "source": [
    "leafmap.bar_chart(\n",
    "    median_df,\n",
    "    \"State\",\n",
    "    \"Meters\",\n",
    "    title=\"Median Area of Non-Floodplain Wetlands (NFWs) by State\",\n",
    ")"
   ]
  },
  {
   "cell_type": "markdown",
   "id": "29",
   "metadata": {},
   "source": [
    "![](https://i.imgur.com/OZahOKx.png)"
   ]
  },
  {
   "cell_type": "markdown",
   "id": "30",
   "metadata": {},
   "source": [
    "Calculate the number of NFWs intersecting surface depressions (i.e., wetland depressions) in each state:"
   ]
  },
  {
   "cell_type": "code",
   "execution_count": null,
   "id": "31",
   "metadata": {},
   "outputs": [],
   "source": [
    "giw_dep_count_stat = con.sql(\n",
    "    f\"\"\"\n",
    "SELECT inState AS State, COUNT(DISTINCT Final_ID) AS Count\n",
    "FROM 's3://us-west-2.opendata.source.coop/giswqs/giw/wetlands_v2/*.parquet'\n",
    "WHERE area IS NOT NULL\n",
    "GROUP BY inState\n",
    "ORDER BY COUNT(*) DESC;\n",
    "\"\"\"\n",
    ").df()\n",
    "giw_dep_count_stat.head()"
   ]
  },
  {
   "cell_type": "markdown",
   "id": "32",
   "metadata": {},
   "source": [
    "Merge the NFW table with the wetland depressions table:"
   ]
  },
  {
   "cell_type": "code",
   "execution_count": null,
   "id": "33",
   "metadata": {},
   "outputs": [],
   "source": [
    "merged_df = giw_count_df.merge(giw_dep_count_stat, on=\"State\")\n",
    "merged_df.columns = [\"State\", \"GIW_Count\", \"DEP_Count\"]\n",
    "merged_df[\"Percent\"] = merged_df[\"DEP_Count\"] / merged_df[\"GIW_Count\"] * 100\n",
    "merged_df.head()"
   ]
  },
  {
   "cell_type": "markdown",
   "id": "34",
   "metadata": {},
   "source": [
    "Compare the number of NFWs and wetland depressions in each state:"
   ]
  },
  {
   "cell_type": "code",
   "execution_count": null,
   "id": "35",
   "metadata": {},
   "outputs": [],
   "source": [
    "leafmap.bar_chart(\n",
    "    merged_df,\n",
    "    \"State\",\n",
    "    [\"GIW_Count\", \"DEP_Count\"],\n",
    "    title=\"Number of NFWs and Wetland Depressions by State\",\n",
    ")"
   ]
  },
  {
   "cell_type": "markdown",
   "id": "36",
   "metadata": {},
   "source": [
    "![](https://i.imgur.com/BsPdZ82.png)"
   ]
  },
  {
   "cell_type": "markdown",
   "id": "37",
   "metadata": {},
   "source": [
    "Compute the statistics of the area of NFWs and wetland depressions in each state:"
   ]
  },
  {
   "cell_type": "code",
   "execution_count": null,
   "id": "38",
   "metadata": {},
   "outputs": [],
   "source": [
    "giw_dep_count_stat = con.sql(\n",
    "    f\"\"\"\n",
    "SELECT inState AS State, COUNT(DISTINCT Final_ID) AS Count, \n",
    "SUM(area) / 1e6 AS Total_Area_km2, \n",
    "SUM(volume) / 1e9 AS Total_Volume_km3, \n",
    "Median(area) AS Median_Area_m2, \n",
    "Median(volume) AS Median_Volume_m3\n",
    "FROM 's3://us-west-2.opendata.source.coop/giswqs/giw/wetlands_v2/*.parquet'\n",
    "WHERE area IS NOT NULL\n",
    "GROUP BY inState\n",
    "ORDER BY COUNT(*) DESC;\n",
    "\"\"\"\n",
    ").df()\n",
    "giw_dep_count_stat.head(10)"
   ]
  },
  {
   "cell_type": "markdown",
   "id": "39",
   "metadata": {},
   "source": [
    "The median size of wetland depressions in each state:"
   ]
  },
  {
   "cell_type": "code",
   "execution_count": null,
   "id": "40",
   "metadata": {},
   "outputs": [],
   "source": [
    "leafmap.bar_chart(\n",
    "    giw_dep_count_stat[giw_dep_count_stat[\"State\"] != \"NV\"],\n",
    "    \"State\",\n",
    "    \"Median_Area_m2\",\n",
    "    title=\"The Median Size of Maximum Depression Area by State\",\n",
    ")"
   ]
  },
  {
   "cell_type": "markdown",
   "id": "41",
   "metadata": {},
   "source": [
    "![](https://i.imgur.com/nkD0NSM.png)"
   ]
  },
  {
   "cell_type": "markdown",
   "id": "42",
   "metadata": {},
   "source": [
    "The median maximum storage volume of wetland depressions in each state:"
   ]
  },
  {
   "cell_type": "code",
   "execution_count": null,
   "id": "43",
   "metadata": {},
   "outputs": [],
   "source": [
    "leafmap.bar_chart(\n",
    "    giw_dep_count_stat,\n",
    "    \"State\",\n",
    "    \"Median_Volume_m3\",\n",
    "    title=\"The Median Maximum Storage Volume of Wetlands Depressions by State\",\n",
    ")"
   ]
  },
  {
   "cell_type": "markdown",
   "id": "44",
   "metadata": {},
   "source": [
    "![](https://i.imgur.com/OLohMJ9.png)"
   ]
  }
 ],
 "metadata": {
  "kernelspec": {
   "display_name": "Python 3 (ipykernel)",
   "language": "python",
   "name": "python3"
  },
  "language_info": {
   "codemirror_mode": {
    "name": "ipython",
    "version": 3
   },
   "file_extension": ".py",
   "mimetype": "text/x-python",
   "name": "python",
   "nbconvert_exporter": "python",
   "pygments_lexer": "ipython3",
   "version": "3.11.8"
  }
 },
 "nbformat": 4,
 "nbformat_minor": 5
}
